{
 "cells": [
  {
   "cell_type": "markdown",
   "metadata": {
    "id": "alIIEHibGc3M"
   },
   "source": [
    "## Part 1: Preprocessing"
   ]
  },
  {
   "cell_type": "code",
   "execution_count": 437,
   "metadata": {
    "colab": {
     "base_uri": "https://localhost:8080/",
     "height": 325
    },
    "executionInfo": {
     "elapsed": 12323,
     "status": "ok",
     "timestamp": 1730699226906,
     "user": {
      "displayName": "Alexander Booth",
      "userId": "02269714993535573104"
     },
     "user_tz": 360
    },
    "id": "6eDUJ4NtGc3P",
    "outputId": "eeae54b5-3d17-442d-94ba-00dd55b89964"
   },
   "outputs": [
    {
     "data": {
      "text/html": [
       "<div>\n",
       "<style scoped>\n",
       "    .dataframe tbody tr th:only-of-type {\n",
       "        vertical-align: middle;\n",
       "    }\n",
       "\n",
       "    .dataframe tbody tr th {\n",
       "        vertical-align: top;\n",
       "    }\n",
       "\n",
       "    .dataframe thead th {\n",
       "        text-align: right;\n",
       "    }\n",
       "</style>\n",
       "<table border=\"1\" class=\"dataframe\">\n",
       "  <thead>\n",
       "    <tr style=\"text-align: right;\">\n",
       "      <th></th>\n",
       "      <th>Age</th>\n",
       "      <th>Attrition</th>\n",
       "      <th>BusinessTravel</th>\n",
       "      <th>Department</th>\n",
       "      <th>DistanceFromHome</th>\n",
       "      <th>Education</th>\n",
       "      <th>EducationField</th>\n",
       "      <th>EnvironmentSatisfaction</th>\n",
       "      <th>HourlyRate</th>\n",
       "      <th>JobInvolvement</th>\n",
       "      <th>...</th>\n",
       "      <th>PerformanceRating</th>\n",
       "      <th>RelationshipSatisfaction</th>\n",
       "      <th>StockOptionLevel</th>\n",
       "      <th>TotalWorkingYears</th>\n",
       "      <th>TrainingTimesLastYear</th>\n",
       "      <th>WorkLifeBalance</th>\n",
       "      <th>YearsAtCompany</th>\n",
       "      <th>YearsInCurrentRole</th>\n",
       "      <th>YearsSinceLastPromotion</th>\n",
       "      <th>YearsWithCurrManager</th>\n",
       "    </tr>\n",
       "  </thead>\n",
       "  <tbody>\n",
       "    <tr>\n",
       "      <th>0</th>\n",
       "      <td>41</td>\n",
       "      <td>Yes</td>\n",
       "      <td>Travel_Rarely</td>\n",
       "      <td>Sales</td>\n",
       "      <td>1</td>\n",
       "      <td>2</td>\n",
       "      <td>Life Sciences</td>\n",
       "      <td>2</td>\n",
       "      <td>94</td>\n",
       "      <td>3</td>\n",
       "      <td>...</td>\n",
       "      <td>3</td>\n",
       "      <td>1</td>\n",
       "      <td>0</td>\n",
       "      <td>8</td>\n",
       "      <td>0</td>\n",
       "      <td>1</td>\n",
       "      <td>6</td>\n",
       "      <td>4</td>\n",
       "      <td>0</td>\n",
       "      <td>5</td>\n",
       "    </tr>\n",
       "    <tr>\n",
       "      <th>1</th>\n",
       "      <td>49</td>\n",
       "      <td>No</td>\n",
       "      <td>Travel_Frequently</td>\n",
       "      <td>Research &amp; Development</td>\n",
       "      <td>8</td>\n",
       "      <td>1</td>\n",
       "      <td>Life Sciences</td>\n",
       "      <td>3</td>\n",
       "      <td>61</td>\n",
       "      <td>2</td>\n",
       "      <td>...</td>\n",
       "      <td>4</td>\n",
       "      <td>4</td>\n",
       "      <td>1</td>\n",
       "      <td>10</td>\n",
       "      <td>3</td>\n",
       "      <td>3</td>\n",
       "      <td>10</td>\n",
       "      <td>7</td>\n",
       "      <td>1</td>\n",
       "      <td>7</td>\n",
       "    </tr>\n",
       "    <tr>\n",
       "      <th>2</th>\n",
       "      <td>37</td>\n",
       "      <td>Yes</td>\n",
       "      <td>Travel_Rarely</td>\n",
       "      <td>Research &amp; Development</td>\n",
       "      <td>2</td>\n",
       "      <td>2</td>\n",
       "      <td>Other</td>\n",
       "      <td>4</td>\n",
       "      <td>92</td>\n",
       "      <td>2</td>\n",
       "      <td>...</td>\n",
       "      <td>3</td>\n",
       "      <td>2</td>\n",
       "      <td>0</td>\n",
       "      <td>7</td>\n",
       "      <td>3</td>\n",
       "      <td>3</td>\n",
       "      <td>0</td>\n",
       "      <td>0</td>\n",
       "      <td>0</td>\n",
       "      <td>0</td>\n",
       "    </tr>\n",
       "    <tr>\n",
       "      <th>3</th>\n",
       "      <td>33</td>\n",
       "      <td>No</td>\n",
       "      <td>Travel_Frequently</td>\n",
       "      <td>Research &amp; Development</td>\n",
       "      <td>3</td>\n",
       "      <td>4</td>\n",
       "      <td>Life Sciences</td>\n",
       "      <td>4</td>\n",
       "      <td>56</td>\n",
       "      <td>3</td>\n",
       "      <td>...</td>\n",
       "      <td>3</td>\n",
       "      <td>3</td>\n",
       "      <td>0</td>\n",
       "      <td>8</td>\n",
       "      <td>3</td>\n",
       "      <td>3</td>\n",
       "      <td>8</td>\n",
       "      <td>7</td>\n",
       "      <td>3</td>\n",
       "      <td>0</td>\n",
       "    </tr>\n",
       "    <tr>\n",
       "      <th>4</th>\n",
       "      <td>27</td>\n",
       "      <td>No</td>\n",
       "      <td>Travel_Rarely</td>\n",
       "      <td>Research &amp; Development</td>\n",
       "      <td>2</td>\n",
       "      <td>1</td>\n",
       "      <td>Medical</td>\n",
       "      <td>1</td>\n",
       "      <td>40</td>\n",
       "      <td>3</td>\n",
       "      <td>...</td>\n",
       "      <td>3</td>\n",
       "      <td>4</td>\n",
       "      <td>1</td>\n",
       "      <td>6</td>\n",
       "      <td>3</td>\n",
       "      <td>3</td>\n",
       "      <td>2</td>\n",
       "      <td>2</td>\n",
       "      <td>2</td>\n",
       "      <td>2</td>\n",
       "    </tr>\n",
       "  </tbody>\n",
       "</table>\n",
       "<p>5 rows × 27 columns</p>\n",
       "</div>"
      ],
      "text/plain": [
       "   Age Attrition     BusinessTravel              Department  DistanceFromHome  \\\n",
       "0   41       Yes      Travel_Rarely                   Sales                 1   \n",
       "1   49        No  Travel_Frequently  Research & Development                 8   \n",
       "2   37       Yes      Travel_Rarely  Research & Development                 2   \n",
       "3   33        No  Travel_Frequently  Research & Development                 3   \n",
       "4   27        No      Travel_Rarely  Research & Development                 2   \n",
       "\n",
       "   Education EducationField  EnvironmentSatisfaction  HourlyRate  \\\n",
       "0          2  Life Sciences                        2          94   \n",
       "1          1  Life Sciences                        3          61   \n",
       "2          2          Other                        4          92   \n",
       "3          4  Life Sciences                        4          56   \n",
       "4          1        Medical                        1          40   \n",
       "\n",
       "   JobInvolvement  ...  PerformanceRating RelationshipSatisfaction  \\\n",
       "0               3  ...                  3                        1   \n",
       "1               2  ...                  4                        4   \n",
       "2               2  ...                  3                        2   \n",
       "3               3  ...                  3                        3   \n",
       "4               3  ...                  3                        4   \n",
       "\n",
       "   StockOptionLevel TotalWorkingYears  TrainingTimesLastYear WorkLifeBalance  \\\n",
       "0                 0                 8                      0               1   \n",
       "1                 1                10                      3               3   \n",
       "2                 0                 7                      3               3   \n",
       "3                 0                 8                      3               3   \n",
       "4                 1                 6                      3               3   \n",
       "\n",
       "   YearsAtCompany  YearsInCurrentRole  YearsSinceLastPromotion  \\\n",
       "0               6                   4                        0   \n",
       "1              10                   7                        1   \n",
       "2               0                   0                        0   \n",
       "3               8                   7                        3   \n",
       "4               2                   2                        2   \n",
       "\n",
       "   YearsWithCurrManager  \n",
       "0                     5  \n",
       "1                     7  \n",
       "2                     0  \n",
       "3                     0  \n",
       "4                     2  \n",
       "\n",
       "[5 rows x 27 columns]"
      ]
     },
     "execution_count": 437,
     "metadata": {},
     "output_type": "execute_result"
    }
   ],
   "source": [
    "# Import our dependencies\n",
    "from sklearn.model_selection import train_test_split\n",
    "from sklearn.preprocessing import StandardScaler\n",
    "import pandas as pd\n",
    "import numpy as np\n",
    "from tensorflow.keras.models import Model\n",
    "from tensorflow.keras import layers\n",
    "\n",
    "#  Import and read the attrition data\n",
    "attrition_df = pd.read_csv('https://static.bc-edx.com/ai/ail-v-1-0/m19/lms/datasets/attrition.csv')\n",
    "attrition_df.head()"
   ]
  },
  {
   "cell_type": "code",
   "execution_count": 438,
   "metadata": {
    "colab": {
     "base_uri": "https://localhost:8080/",
     "height": 930
    },
    "executionInfo": {
     "elapsed": 10,
     "status": "ok",
     "timestamp": 1730699226906,
     "user": {
      "displayName": "Alexander Booth",
      "userId": "02269714993535573104"
     },
     "user_tz": 360
    },
    "id": "g22aQSY4Gc3Q",
    "outputId": "e8b68509-45d8-42e0-a9db-1bdce48e4b2d"
   },
   "outputs": [
    {
     "data": {
      "text/plain": [
       "Age                         43\n",
       "Attrition                    2\n",
       "BusinessTravel               3\n",
       "Department                   3\n",
       "DistanceFromHome            29\n",
       "Education                    5\n",
       "EducationField               6\n",
       "EnvironmentSatisfaction      4\n",
       "HourlyRate                  71\n",
       "JobInvolvement               4\n",
       "JobLevel                     5\n",
       "JobRole                      9\n",
       "JobSatisfaction              4\n",
       "MaritalStatus                3\n",
       "NumCompaniesWorked          10\n",
       "OverTime                     2\n",
       "PercentSalaryHike           15\n",
       "PerformanceRating            2\n",
       "RelationshipSatisfaction     4\n",
       "StockOptionLevel             4\n",
       "TotalWorkingYears           40\n",
       "TrainingTimesLastYear        7\n",
       "WorkLifeBalance              4\n",
       "YearsAtCompany              37\n",
       "YearsInCurrentRole          19\n",
       "YearsSinceLastPromotion     16\n",
       "YearsWithCurrManager        18\n",
       "dtype: int64"
      ]
     },
     "execution_count": 438,
     "metadata": {},
     "output_type": "execute_result"
    }
   ],
   "source": [
    "# Determine the number of unique values in each column\n",
    "attrition_df.nunique()"
   ]
  },
  {
   "cell_type": "code",
   "execution_count": 439,
   "metadata": {
    "executionInfo": {
     "elapsed": 7,
     "status": "ok",
     "timestamp": 1730699226906,
     "user": {
      "displayName": "Alexander Booth",
      "userId": "02269714993535573104"
     },
     "user_tz": 360
    },
    "id": "50vMgBEnJbfM"
   },
   "outputs": [],
   "source": [
    "# Create y_df with the Attrition and Department columns\n",
    "y_df = attrition_df[['Attrition', 'Department']]"
   ]
  },
  {
   "cell_type": "code",
   "execution_count": 440,
   "metadata": {
    "colab": {
     "base_uri": "https://localhost:8080/",
     "height": 397
    },
    "executionInfo": {
     "elapsed": 125,
     "status": "ok",
     "timestamp": 1730699227025,
     "user": {
      "displayName": "Alexander Booth",
      "userId": "02269714993535573104"
     },
     "user_tz": 360
    },
    "id": "Virka0zLGc3R",
    "outputId": "24f181c9-7e2e-42cb-94e8-a75842f1ab01"
   },
   "outputs": [
    {
     "data": {
      "text/plain": [
       "Education                   int64\n",
       "Age                         int64\n",
       "DistanceFromHome            int64\n",
       "JobSatisfaction             int64\n",
       "OverTime                   object\n",
       "StockOptionLevel            int64\n",
       "WorkLifeBalance             int64\n",
       "YearsAtCompany              int64\n",
       "YearsSinceLastPromotion     int64\n",
       "NumCompaniesWorked          int64\n",
       "dtype: object"
      ]
     },
     "execution_count": 440,
     "metadata": {},
     "output_type": "execute_result"
    }
   ],
   "source": [
    "# Create a list of at least 10 column names to use as X data\n",
    "X_columns = ['Education', 'Age', 'DistanceFromHome', 'JobSatisfaction', 'OverTime',\n",
    "             'StockOptionLevel', 'WorkLifeBalance', 'YearsAtCompany',\n",
    "             'YearsSinceLastPromotion', 'NumCompaniesWorked']\n",
    "\n",
    "# Create X_df using your selected columns\n",
    "X_df = attrition_df[X_columns]\n",
    "\n",
    "# Show the data types for X_df\n",
    "X_df.dtypes"
   ]
  },
  {
   "cell_type": "code",
   "execution_count": 441,
   "metadata": {
    "executionInfo": {
     "elapsed": 9,
     "status": "ok",
     "timestamp": 1730699227025,
     "user": {
      "displayName": "Alexander Booth",
      "userId": "02269714993535573104"
     },
     "user_tz": 360
    },
    "id": "KaJfdOGUMHMR"
   },
   "outputs": [],
   "source": [
    "# Split the data into training and testing sets\n",
    "X_train, X_test, y_train, y_test = train_test_split(X_df, y_df, random_state=1)"
   ]
  },
  {
   "cell_type": "code",
   "execution_count": 442,
   "metadata": {
    "colab": {
     "base_uri": "https://localhost:8080/"
    },
    "executionInfo": {
     "elapsed": 99,
     "status": "ok",
     "timestamp": 1730699227256,
     "user": {
      "displayName": "Alexander Booth",
      "userId": "02269714993535573104"
     },
     "user_tz": 360
    },
    "id": "-z0Mky8vQSz4",
    "outputId": "5024d63f-7e4e-4a91-fb76-0b2c79c1bcfb"
   },
   "outputs": [
    {
     "data": {
      "text/plain": [
       "OverTime\n",
       "No     1054\n",
       "Yes     416\n",
       "Name: count, dtype: int64"
      ]
     },
     "execution_count": 442,
     "metadata": {},
     "output_type": "execute_result"
    }
   ],
   "source": [
    "# Convert your X data to numeric data types however you see fit\n",
    "# Add new code cells as necessary\n",
    "X_cat_cols = X_train.select_dtypes(include='object').columns.tolist()\n",
    "X_encoder = OneHotEncoder(drop='if_binary', sparse_output=False, handle_unknown='ignore')\n",
    "X_encoder.fit(X_train[X_cat_cols])\n",
    "\n",
    "X_train_encoded = pd.DataFrame(X_encoder.transform(X_train[X_cat_cols]), index=X_train.index)\n",
    "X_test_encoded = pd.DataFrame(X_encoder.transform(X_test[X_cat_cols]), index=X_test.index)\n",
    "\n",
    "X_train = X_train.drop(columns=X_cat_cols)\n",
    "X_test = X_test.drop(columns=X_cat_cols)\n",
    "X_train = pd.concat([X_train, X_train_encoded], axis=1)\n",
    "X_test = pd.concat([X_test, X_test_encoded], axis=1)\n",
    "\n",
    "# Check the count of each value in the 'OverTime' column\n",
    "attrition_df[\"OverTime\"].value_counts()"
   ]
  },
  {
   "cell_type": "code",
   "execution_count": 443,
   "metadata": {
    "colab": {
     "base_uri": "https://localhost:8080/",
     "height": 178
    },
    "executionInfo": {
     "elapsed": 8,
     "status": "ok",
     "timestamp": 1730699227025,
     "user": {
      "displayName": "Alexander Booth",
      "userId": "02269714993535573104"
     },
     "user_tz": 360
    },
    "id": "NYubUJqiLCSp",
    "outputId": "6116187c-4afa-4d4a-aeb9-fdc2131d0d58"
   },
   "outputs": [],
   "source": [
    "# Ensure all column names are strings\n",
    "X_train.columns = X_train.columns.astype(str)\n",
    "X_test.columns = X_test.columns.astype(str)\n",
    "\n",
    "# Create a StandardScaler\n",
    "scaler = StandardScaler()\n",
    "\n",
    "# Fit the StandardScaler to the training data\n",
    "X_train_scaled = scaler.fit_transform(X_train)\n",
    "\n",
    "# Scale the testing data\n",
    "X_test_scaled = scaler.transform(X_test)"
   ]
  },
  {
   "cell_type": "code",
   "execution_count": 444,
   "metadata": {
    "executionInfo": {
     "elapsed": 6,
     "status": "ok",
     "timestamp": 1730699227162,
     "user": {
      "displayName": "Alexander Booth",
      "userId": "02269714993535573104"
     },
     "user_tz": 360
    },
    "id": "EWA-aIA5Gc3T"
   },
   "outputs": [
    {
     "name": "stdout",
     "output_type": "stream",
     "text": [
      "[[0. 1. 0.]\n",
      " [0. 1. 0.]\n",
      " [0. 0. 1.]\n",
      " ...\n",
      " [1. 0. 0.]\n",
      " [0. 0. 1.]\n",
      " [0. 0. 1.]]\n"
     ]
    }
   ],
   "source": [
    "from sklearn.preprocessing import OneHotEncoder\n",
    "\n",
    "# Create a OneHotEncoder for the Department column\n",
    "dept_encoder = OneHotEncoder(sparse_output=False, handle_unknown='ignore')\n",
    "\n",
    "# Fit the encoder to the training data\n",
    "dept_encoder.fit(y_train[[\"Department\"]])\n",
    "\n",
    "# Create two new variables by applying the encoder\n",
    "# to the training and testing data\n",
    "y_train_dept = dept_encoder.transform(y_train[[\"Department\"]])\n",
    "y_test_dept = dept_encoder.transform(y_test[[\"Department\"]])\n",
    "\n",
    "# Print encoded department values to visualize the result\n",
    "print(y_train_dept)"
   ]
  },
  {
   "cell_type": "code",
   "execution_count": 445,
   "metadata": {},
   "outputs": [],
   "source": [
    "# Create a OneHotEncoder for the Attrition column\n",
    "attr_encoder = OneHotEncoder(sparse_output=False, handle_unknown='ignore')\n",
    "\n",
    "# Fit the encoder to the training data\n",
    "attr_encoder.fit(y_train[[\"Attrition\"]])\n",
    "\n",
    "# Create two new variables by applying the encoder\n",
    "# to the training and testing data\n",
    "y_train_attr = attr_encoder.transform(y_train[[\"Attrition\"]])\n",
    "y_test_attr = attr_encoder.transform(y_test[[\"Attrition\"]])"
   ]
  },
  {
   "cell_type": "markdown",
   "metadata": {
    "id": "ykNmu_WWGc3T"
   },
   "source": [
    "## Part 2: Create, Compile, and Train the Model"
   ]
  },
  {
   "cell_type": "code",
   "execution_count": 446,
   "metadata": {
    "executionInfo": {
     "elapsed": 309,
     "status": "ok",
     "timestamp": 1730699227563,
     "user": {
      "displayName": "Alexander Booth",
      "userId": "02269714993535573104"
     },
     "user_tz": 360
    },
    "id": "WUptZqmSGc3T"
   },
   "outputs": [],
   "source": [
    "# Find the number of columns in the X training data.\n",
    "input_dim = X_train_scaled.shape[1]\n",
    "\n",
    "# Create the input layer\n",
    "input_layer = Input(shape=(input_dim,), name='input')\n",
    "\n",
    "# Create at least two shared layers\n",
    "shared_layer1 = layers.Dense(64, activation='relu', name='shared1')(input_layer)\n",
    "shared_layer2 = layers.Dense(128, activation='relu', name='shared2')(shared_layer1)\n"
   ]
  },
  {
   "cell_type": "code",
   "execution_count": 447,
   "metadata": {
    "executionInfo": {
     "elapsed": 118,
     "status": "ok",
     "timestamp": 1730699227678,
     "user": {
      "displayName": "Alexander Booth",
      "userId": "02269714993535573104"
     },
     "user_tz": 360
    },
    "id": "JukjTm2yTEqd"
   },
   "outputs": [],
   "source": [
    "# Create a branch for Department\n",
    "# with a hidden layer and an output layer\n",
    "\n",
    "# Create the hidden layer\n",
    "dept_branch = layers.Dense(64, activation='relu', name='department_hidden')(shared_layer2)\n",
    "\n",
    "# Create the output layer\n",
    "dept_output = layers.Dense(y_train_dept.shape[1], activation='relu', name='department_output')(dept_branch)"
   ]
  },
  {
   "cell_type": "code",
   "execution_count": 448,
   "metadata": {
    "executionInfo": {
     "elapsed": 9,
     "status": "ok",
     "timestamp": 1730699227679,
     "user": {
      "displayName": "Alexander Booth",
      "userId": "02269714993535573104"
     },
     "user_tz": 360
    },
    "id": "9OqhUiOJUBkR"
   },
   "outputs": [],
   "source": [
    "# Create a branch for Attrition\n",
    "# with a hidden layer and an output layer\n",
    "\n",
    "# Create the hidden layer\n",
    "attr_branch = layers.Dense(64, activation='relu', name='attrition_hidden')(shared_layer2)\n",
    "\n",
    "# Create the output layer\n",
    "attr_output = layers.Dense(units=y_train_attr.shape[1], activation='relu', name='attrition_output')(attr_branch)"
   ]
  },
  {
   "cell_type": "code",
   "execution_count": 449,
   "metadata": {
    "colab": {
     "base_uri": "https://localhost:8080/",
     "height": 361
    },
    "executionInfo": {
     "elapsed": 108,
     "status": "ok",
     "timestamp": 1730699227780,
     "user": {
      "displayName": "Alexander Booth",
      "userId": "02269714993535573104"
     },
     "user_tz": 360
    },
    "id": "twmuejdxGc3T",
    "outputId": "dd9ce242-6a66-4709-ba13-4b13551c22e0"
   },
   "outputs": [
    {
     "data": {
      "text/html": [
       "<pre style=\"white-space:pre;overflow-x:auto;line-height:normal;font-family:Menlo,'DejaVu Sans Mono',consolas,'Courier New',monospace\"><span style=\"font-weight: bold\">Model: \"functional_18\"</span>\n",
       "</pre>\n"
      ],
      "text/plain": [
       "\u001b[1mModel: \"functional_18\"\u001b[0m\n"
      ]
     },
     "metadata": {},
     "output_type": "display_data"
    },
    {
     "data": {
      "text/html": [
       "<pre style=\"white-space:pre;overflow-x:auto;line-height:normal;font-family:Menlo,'DejaVu Sans Mono',consolas,'Courier New',monospace\">┏━━━━━━━━━━━━━━━━━━━━━┳━━━━━━━━━━━━━━━━━━━┳━━━━━━━━━━━━┳━━━━━━━━━━━━━━━━━━━┓\n",
       "┃<span style=\"font-weight: bold\"> Layer (type)        </span>┃<span style=\"font-weight: bold\"> Output Shape      </span>┃<span style=\"font-weight: bold\">    Param # </span>┃<span style=\"font-weight: bold\"> Connected to      </span>┃\n",
       "┡━━━━━━━━━━━━━━━━━━━━━╇━━━━━━━━━━━━━━━━━━━╇━━━━━━━━━━━━╇━━━━━━━━━━━━━━━━━━━┩\n",
       "│ input (<span style=\"color: #0087ff; text-decoration-color: #0087ff\">InputLayer</span>)  │ (<span style=\"color: #00d7ff; text-decoration-color: #00d7ff\">None</span>, <span style=\"color: #00af00; text-decoration-color: #00af00\">10</span>)        │          <span style=\"color: #00af00; text-decoration-color: #00af00\">0</span> │ -                 │\n",
       "├─────────────────────┼───────────────────┼────────────┼───────────────────┤\n",
       "│ shared1 (<span style=\"color: #0087ff; text-decoration-color: #0087ff\">Dense</span>)     │ (<span style=\"color: #00d7ff; text-decoration-color: #00d7ff\">None</span>, <span style=\"color: #00af00; text-decoration-color: #00af00\">64</span>)        │        <span style=\"color: #00af00; text-decoration-color: #00af00\">704</span> │ input[<span style=\"color: #00af00; text-decoration-color: #00af00\">0</span>][<span style=\"color: #00af00; text-decoration-color: #00af00\">0</span>]       │\n",
       "├─────────────────────┼───────────────────┼────────────┼───────────────────┤\n",
       "│ shared2 (<span style=\"color: #0087ff; text-decoration-color: #0087ff\">Dense</span>)     │ (<span style=\"color: #00d7ff; text-decoration-color: #00d7ff\">None</span>, <span style=\"color: #00af00; text-decoration-color: #00af00\">128</span>)       │      <span style=\"color: #00af00; text-decoration-color: #00af00\">8,320</span> │ shared1[<span style=\"color: #00af00; text-decoration-color: #00af00\">0</span>][<span style=\"color: #00af00; text-decoration-color: #00af00\">0</span>]     │\n",
       "├─────────────────────┼───────────────────┼────────────┼───────────────────┤\n",
       "│ department_hidden   │ (<span style=\"color: #00d7ff; text-decoration-color: #00d7ff\">None</span>, <span style=\"color: #00af00; text-decoration-color: #00af00\">64</span>)        │      <span style=\"color: #00af00; text-decoration-color: #00af00\">8,256</span> │ shared2[<span style=\"color: #00af00; text-decoration-color: #00af00\">0</span>][<span style=\"color: #00af00; text-decoration-color: #00af00\">0</span>]     │\n",
       "│ (<span style=\"color: #0087ff; text-decoration-color: #0087ff\">Dense</span>)             │                   │            │                   │\n",
       "├─────────────────────┼───────────────────┼────────────┼───────────────────┤\n",
       "│ attrition_hidden    │ (<span style=\"color: #00d7ff; text-decoration-color: #00d7ff\">None</span>, <span style=\"color: #00af00; text-decoration-color: #00af00\">64</span>)        │      <span style=\"color: #00af00; text-decoration-color: #00af00\">8,256</span> │ shared2[<span style=\"color: #00af00; text-decoration-color: #00af00\">0</span>][<span style=\"color: #00af00; text-decoration-color: #00af00\">0</span>]     │\n",
       "│ (<span style=\"color: #0087ff; text-decoration-color: #0087ff\">Dense</span>)             │                   │            │                   │\n",
       "├─────────────────────┼───────────────────┼────────────┼───────────────────┤\n",
       "│ department_output   │ (<span style=\"color: #00d7ff; text-decoration-color: #00d7ff\">None</span>, <span style=\"color: #00af00; text-decoration-color: #00af00\">3</span>)         │        <span style=\"color: #00af00; text-decoration-color: #00af00\">195</span> │ department_hidde… │\n",
       "│ (<span style=\"color: #0087ff; text-decoration-color: #0087ff\">Dense</span>)             │                   │            │                   │\n",
       "├─────────────────────┼───────────────────┼────────────┼───────────────────┤\n",
       "│ attrition_output    │ (<span style=\"color: #00d7ff; text-decoration-color: #00d7ff\">None</span>, <span style=\"color: #00af00; text-decoration-color: #00af00\">2</span>)         │        <span style=\"color: #00af00; text-decoration-color: #00af00\">130</span> │ attrition_hidden… │\n",
       "│ (<span style=\"color: #0087ff; text-decoration-color: #0087ff\">Dense</span>)             │                   │            │                   │\n",
       "└─────────────────────┴───────────────────┴────────────┴───────────────────┘\n",
       "</pre>\n"
      ],
      "text/plain": [
       "┏━━━━━━━━━━━━━━━━━━━━━┳━━━━━━━━━━━━━━━━━━━┳━━━━━━━━━━━━┳━━━━━━━━━━━━━━━━━━━┓\n",
       "┃\u001b[1m \u001b[0m\u001b[1mLayer (type)       \u001b[0m\u001b[1m \u001b[0m┃\u001b[1m \u001b[0m\u001b[1mOutput Shape     \u001b[0m\u001b[1m \u001b[0m┃\u001b[1m \u001b[0m\u001b[1m   Param #\u001b[0m\u001b[1m \u001b[0m┃\u001b[1m \u001b[0m\u001b[1mConnected to     \u001b[0m\u001b[1m \u001b[0m┃\n",
       "┡━━━━━━━━━━━━━━━━━━━━━╇━━━━━━━━━━━━━━━━━━━╇━━━━━━━━━━━━╇━━━━━━━━━━━━━━━━━━━┩\n",
       "│ input (\u001b[38;5;33mInputLayer\u001b[0m)  │ (\u001b[38;5;45mNone\u001b[0m, \u001b[38;5;34m10\u001b[0m)        │          \u001b[38;5;34m0\u001b[0m │ -                 │\n",
       "├─────────────────────┼───────────────────┼────────────┼───────────────────┤\n",
       "│ shared1 (\u001b[38;5;33mDense\u001b[0m)     │ (\u001b[38;5;45mNone\u001b[0m, \u001b[38;5;34m64\u001b[0m)        │        \u001b[38;5;34m704\u001b[0m │ input[\u001b[38;5;34m0\u001b[0m][\u001b[38;5;34m0\u001b[0m]       │\n",
       "├─────────────────────┼───────────────────┼────────────┼───────────────────┤\n",
       "│ shared2 (\u001b[38;5;33mDense\u001b[0m)     │ (\u001b[38;5;45mNone\u001b[0m, \u001b[38;5;34m128\u001b[0m)       │      \u001b[38;5;34m8,320\u001b[0m │ shared1[\u001b[38;5;34m0\u001b[0m][\u001b[38;5;34m0\u001b[0m]     │\n",
       "├─────────────────────┼───────────────────┼────────────┼───────────────────┤\n",
       "│ department_hidden   │ (\u001b[38;5;45mNone\u001b[0m, \u001b[38;5;34m64\u001b[0m)        │      \u001b[38;5;34m8,256\u001b[0m │ shared2[\u001b[38;5;34m0\u001b[0m][\u001b[38;5;34m0\u001b[0m]     │\n",
       "│ (\u001b[38;5;33mDense\u001b[0m)             │                   │            │                   │\n",
       "├─────────────────────┼───────────────────┼────────────┼───────────────────┤\n",
       "│ attrition_hidden    │ (\u001b[38;5;45mNone\u001b[0m, \u001b[38;5;34m64\u001b[0m)        │      \u001b[38;5;34m8,256\u001b[0m │ shared2[\u001b[38;5;34m0\u001b[0m][\u001b[38;5;34m0\u001b[0m]     │\n",
       "│ (\u001b[38;5;33mDense\u001b[0m)             │                   │            │                   │\n",
       "├─────────────────────┼───────────────────┼────────────┼───────────────────┤\n",
       "│ department_output   │ (\u001b[38;5;45mNone\u001b[0m, \u001b[38;5;34m3\u001b[0m)         │        \u001b[38;5;34m195\u001b[0m │ department_hidde… │\n",
       "│ (\u001b[38;5;33mDense\u001b[0m)             │                   │            │                   │\n",
       "├─────────────────────┼───────────────────┼────────────┼───────────────────┤\n",
       "│ attrition_output    │ (\u001b[38;5;45mNone\u001b[0m, \u001b[38;5;34m2\u001b[0m)         │        \u001b[38;5;34m130\u001b[0m │ attrition_hidden… │\n",
       "│ (\u001b[38;5;33mDense\u001b[0m)             │                   │            │                   │\n",
       "└─────────────────────┴───────────────────┴────────────┴───────────────────┘\n"
      ]
     },
     "metadata": {},
     "output_type": "display_data"
    },
    {
     "data": {
      "text/html": [
       "<pre style=\"white-space:pre;overflow-x:auto;line-height:normal;font-family:Menlo,'DejaVu Sans Mono',consolas,'Courier New',monospace\"><span style=\"font-weight: bold\"> Total params: </span><span style=\"color: #00af00; text-decoration-color: #00af00\">25,861</span> (101.02 KB)\n",
       "</pre>\n"
      ],
      "text/plain": [
       "\u001b[1m Total params: \u001b[0m\u001b[38;5;34m25,861\u001b[0m (101.02 KB)\n"
      ]
     },
     "metadata": {},
     "output_type": "display_data"
    },
    {
     "data": {
      "text/html": [
       "<pre style=\"white-space:pre;overflow-x:auto;line-height:normal;font-family:Menlo,'DejaVu Sans Mono',consolas,'Courier New',monospace\"><span style=\"font-weight: bold\"> Trainable params: </span><span style=\"color: #00af00; text-decoration-color: #00af00\">25,861</span> (101.02 KB)\n",
       "</pre>\n"
      ],
      "text/plain": [
       "\u001b[1m Trainable params: \u001b[0m\u001b[38;5;34m25,861\u001b[0m (101.02 KB)\n"
      ]
     },
     "metadata": {},
     "output_type": "display_data"
    },
    {
     "data": {
      "text/html": [
       "<pre style=\"white-space:pre;overflow-x:auto;line-height:normal;font-family:Menlo,'DejaVu Sans Mono',consolas,'Courier New',monospace\"><span style=\"font-weight: bold\"> Non-trainable params: </span><span style=\"color: #00af00; text-decoration-color: #00af00\">0</span> (0.00 B)\n",
       "</pre>\n"
      ],
      "text/plain": [
       "\u001b[1m Non-trainable params: \u001b[0m\u001b[38;5;34m0\u001b[0m (0.00 B)\n"
      ]
     },
     "metadata": {},
     "output_type": "display_data"
    }
   ],
   "source": [
    "# Create the model\n",
    "model = Model(inputs=input_layer, outputs=[dept_output, attr_output])\n",
    "\n",
    "# Compile the model\n",
    "model.compile(\n",
    "    optimizer='adam',\n",
    "    loss={\n",
    "        'department_output': 'categorical_crossentropy',\n",
    "        'attrition_output': 'categorical_crossentropy'\n",
    "    },\n",
    "    metrics={\n",
    "        'department_output': 'accuracy',\n",
    "        'attrition_output': 'accuracy'\n",
    "    }\n",
    ")\n",
    "\n",
    "# Summarize the model\n",
    "model.summary()\n"
   ]
  },
  {
   "cell_type": "code",
   "execution_count": 450,
   "metadata": {
    "colab": {
     "base_uri": "https://localhost:8080/"
    },
    "executionInfo": {
     "elapsed": 31740,
     "status": "ok",
     "timestamp": 1730699259517,
     "user": {
      "displayName": "Alexander Booth",
      "userId": "02269714993535573104"
     },
     "user_tz": 360
    },
    "id": "c8oGy0dpGc3U",
    "outputId": "f48a5292-426f-4715-ea6e-381a8e9d5542"
   },
   "outputs": [
    {
     "name": "stdout",
     "output_type": "stream",
     "text": [
      "Epoch 1/100\n"
     ]
    },
    {
     "name": "stdout",
     "output_type": "stream",
     "text": [
      "\u001b[1m28/28\u001b[0m \u001b[32m━━━━━━━━━━━━━━━━━━━━\u001b[0m\u001b[37m\u001b[0m \u001b[1m2s\u001b[0m 13ms/step - attrition_output_accuracy: 0.8542 - attrition_output_loss: nan - department_output_accuracy: 0.5914 - department_output_loss: 5.1231 - loss: nan - val_attrition_output_accuracy: 0.8281 - val_attrition_output_loss: nan - val_department_output_accuracy: 0.6335 - val_department_output_loss: 5.9029 - val_loss: nan\n",
      "Epoch 2/100\n",
      "\u001b[1m28/28\u001b[0m \u001b[32m━━━━━━━━━━━━━━━━━━━━\u001b[0m\u001b[37m\u001b[0m \u001b[1m0s\u001b[0m 4ms/step - attrition_output_accuracy: 0.8441 - attrition_output_loss: nan - department_output_accuracy: 0.6621 - department_output_loss: 5.4472 - loss: nan - val_attrition_output_accuracy: 0.8281 - val_attrition_output_loss: nan - val_department_output_accuracy: 0.6335 - val_department_output_loss: 5.9029 - val_loss: nan\n",
      "Epoch 3/100\n",
      "\u001b[1m28/28\u001b[0m \u001b[32m━━━━━━━━━━━━━━━━━━━━\u001b[0m\u001b[37m\u001b[0m \u001b[1m0s\u001b[0m 3ms/step - attrition_output_accuracy: 0.8516 - attrition_output_loss: nan - department_output_accuracy: 0.6739 - department_output_loss: 5.2578 - loss: nan - val_attrition_output_accuracy: 0.8281 - val_attrition_output_loss: nan - val_department_output_accuracy: 0.6335 - val_department_output_loss: 5.9029 - val_loss: nan\n",
      "Epoch 4/100\n",
      "\u001b[1m28/28\u001b[0m \u001b[32m━━━━━━━━━━━━━━━━━━━━\u001b[0m\u001b[37m\u001b[0m \u001b[1m0s\u001b[0m 3ms/step - attrition_output_accuracy: 0.8441 - attrition_output_loss: nan - department_output_accuracy: 0.6757 - department_output_loss: 5.2265 - loss: nan - val_attrition_output_accuracy: 0.8281 - val_attrition_output_loss: nan - val_department_output_accuracy: 0.6335 - val_department_output_loss: 5.9029 - val_loss: nan\n",
      "Epoch 5/100\n",
      "\u001b[1m28/28\u001b[0m \u001b[32m━━━━━━━━━━━━━━━━━━━━\u001b[0m\u001b[37m\u001b[0m \u001b[1m0s\u001b[0m 4ms/step - attrition_output_accuracy: 0.8355 - attrition_output_loss: nan - department_output_accuracy: 0.6497 - department_output_loss: 5.6462 - loss: nan - val_attrition_output_accuracy: 0.8281 - val_attrition_output_loss: nan - val_department_output_accuracy: 0.6335 - val_department_output_loss: 5.9029 - val_loss: nan\n",
      "Epoch 6/100\n",
      "\u001b[1m28/28\u001b[0m \u001b[32m━━━━━━━━━━━━━━━━━━━━\u001b[0m\u001b[37m\u001b[0m \u001b[1m0s\u001b[0m 3ms/step - attrition_output_accuracy: 0.8600 - attrition_output_loss: nan - department_output_accuracy: 0.6653 - department_output_loss: 5.3929 - loss: nan - val_attrition_output_accuracy: 0.8281 - val_attrition_output_loss: nan - val_department_output_accuracy: 0.6335 - val_department_output_loss: 5.9029 - val_loss: nan\n",
      "Epoch 7/100\n",
      "\u001b[1m28/28\u001b[0m \u001b[32m━━━━━━━━━━━━━━━━━━━━\u001b[0m\u001b[37m\u001b[0m \u001b[1m0s\u001b[0m 4ms/step - attrition_output_accuracy: 0.8584 - attrition_output_loss: nan - department_output_accuracy: 0.6530 - department_output_loss: 5.5944 - loss: nan - val_attrition_output_accuracy: 0.8281 - val_attrition_output_loss: nan - val_department_output_accuracy: 0.6335 - val_department_output_loss: 5.9029 - val_loss: nan\n",
      "Epoch 8/100\n",
      "\u001b[1m28/28\u001b[0m \u001b[32m━━━━━━━━━━━━━━━━━━━━\u001b[0m\u001b[37m\u001b[0m \u001b[1m0s\u001b[0m 3ms/step - attrition_output_accuracy: 0.8671 - attrition_output_loss: nan - department_output_accuracy: 0.6677 - department_output_loss: 5.3571 - loss: nan - val_attrition_output_accuracy: 0.8281 - val_attrition_output_loss: nan - val_department_output_accuracy: 0.6335 - val_department_output_loss: 5.9029 - val_loss: nan\n",
      "Epoch 9/100\n",
      "\u001b[1m28/28\u001b[0m \u001b[32m━━━━━━━━━━━━━━━━━━━━\u001b[0m\u001b[37m\u001b[0m \u001b[1m0s\u001b[0m 3ms/step - attrition_output_accuracy: 0.8534 - attrition_output_loss: nan - department_output_accuracy: 0.6448 - department_output_loss: 5.7205 - loss: nan - val_attrition_output_accuracy: 0.8281 - val_attrition_output_loss: nan - val_department_output_accuracy: 0.6335 - val_department_output_loss: 5.9029 - val_loss: nan\n",
      "Epoch 10/100\n",
      "\u001b[1m28/28\u001b[0m \u001b[32m━━━━━━━━━━━━━━━━━━━━\u001b[0m\u001b[37m\u001b[0m \u001b[1m0s\u001b[0m 4ms/step - attrition_output_accuracy: 0.8631 - attrition_output_loss: nan - department_output_accuracy: 0.6501 - department_output_loss: 5.6384 - loss: nan - val_attrition_output_accuracy: 0.8281 - val_attrition_output_loss: nan - val_department_output_accuracy: 0.6335 - val_department_output_loss: 5.9029 - val_loss: nan\n",
      "Epoch 11/100\n",
      "\u001b[1m28/28\u001b[0m \u001b[32m━━━━━━━━━━━━━━━━━━━━\u001b[0m\u001b[37m\u001b[0m \u001b[1m0s\u001b[0m 3ms/step - attrition_output_accuracy: 0.8712 - attrition_output_loss: nan - department_output_accuracy: 0.6655 - department_output_loss: 5.3926 - loss: nan - val_attrition_output_accuracy: 0.8281 - val_attrition_output_loss: nan - val_department_output_accuracy: 0.6335 - val_department_output_loss: 5.9029 - val_loss: nan\n",
      "Epoch 12/100\n",
      "\u001b[1m28/28\u001b[0m \u001b[32m━━━━━━━━━━━━━━━━━━━━\u001b[0m\u001b[37m\u001b[0m \u001b[1m0s\u001b[0m 4ms/step - attrition_output_accuracy: 0.8534 - attrition_output_loss: nan - department_output_accuracy: 0.6671 - department_output_loss: 5.3689 - loss: nan - val_attrition_output_accuracy: 0.8281 - val_attrition_output_loss: nan - val_department_output_accuracy: 0.6335 - val_department_output_loss: 5.9029 - val_loss: nan\n",
      "Epoch 13/100\n",
      "\u001b[1m28/28\u001b[0m \u001b[32m━━━━━━━━━━━━━━━━━━━━\u001b[0m\u001b[37m\u001b[0m \u001b[1m0s\u001b[0m 3ms/step - attrition_output_accuracy: 0.8609 - attrition_output_loss: nan - department_output_accuracy: 0.6523 - department_output_loss: 5.5988 - loss: nan - val_attrition_output_accuracy: 0.8281 - val_attrition_output_loss: nan - val_department_output_accuracy: 0.6335 - val_department_output_loss: 5.9029 - val_loss: nan\n",
      "Epoch 14/100\n",
      "\u001b[1m28/28\u001b[0m \u001b[32m━━━━━━━━━━━━━━━━━━━━\u001b[0m\u001b[37m\u001b[0m \u001b[1m0s\u001b[0m 4ms/step - attrition_output_accuracy: 0.8503 - attrition_output_loss: nan - department_output_accuracy: 0.6747 - department_output_loss: 5.2396 - loss: nan - val_attrition_output_accuracy: 0.8281 - val_attrition_output_loss: nan - val_department_output_accuracy: 0.6335 - val_department_output_loss: 5.9029 - val_loss: nan\n",
      "Epoch 15/100\n",
      "\u001b[1m28/28\u001b[0m \u001b[32m━━━━━━━━━━━━━━━━━━━━\u001b[0m\u001b[37m\u001b[0m \u001b[1m0s\u001b[0m 3ms/step - attrition_output_accuracy: 0.8643 - attrition_output_loss: nan - department_output_accuracy: 0.6891 - department_output_loss: 5.0141 - loss: nan - val_attrition_output_accuracy: 0.8281 - val_attrition_output_loss: nan - val_department_output_accuracy: 0.6335 - val_department_output_loss: 5.9029 - val_loss: nan\n",
      "Epoch 16/100\n",
      "\u001b[1m28/28\u001b[0m \u001b[32m━━━━━━━━━━━━━━━━━━━━\u001b[0m\u001b[37m\u001b[0m \u001b[1m0s\u001b[0m 4ms/step - attrition_output_accuracy: 0.8460 - attrition_output_loss: nan - department_output_accuracy: 0.6632 - department_output_loss: 5.4249 - loss: nan - val_attrition_output_accuracy: 0.8281 - val_attrition_output_loss: nan - val_department_output_accuracy: 0.6335 - val_department_output_loss: 5.9029 - val_loss: nan\n",
      "Epoch 17/100\n",
      "\u001b[1m28/28\u001b[0m \u001b[32m━━━━━━━━━━━━━━━━━━━━\u001b[0m\u001b[37m\u001b[0m \u001b[1m0s\u001b[0m 4ms/step - attrition_output_accuracy: 0.8735 - attrition_output_loss: nan - department_output_accuracy: 0.6650 - department_output_loss: 5.3964 - loss: nan - val_attrition_output_accuracy: 0.8281 - val_attrition_output_loss: nan - val_department_output_accuracy: 0.6335 - val_department_output_loss: 5.9029 - val_loss: nan\n",
      "Epoch 18/100\n",
      "\u001b[1m28/28\u001b[0m \u001b[32m━━━━━━━━━━━━━━━━━━━━\u001b[0m\u001b[37m\u001b[0m \u001b[1m0s\u001b[0m 3ms/step - attrition_output_accuracy: 0.8433 - attrition_output_loss: nan - department_output_accuracy: 0.6711 - department_output_loss: 5.2999 - loss: nan - val_attrition_output_accuracy: 0.8281 - val_attrition_output_loss: nan - val_department_output_accuracy: 0.6335 - val_department_output_loss: 5.9029 - val_loss: nan\n",
      "Epoch 19/100\n",
      "\u001b[1m28/28\u001b[0m \u001b[32m━━━━━━━━━━━━━━━━━━━━\u001b[0m\u001b[37m\u001b[0m \u001b[1m0s\u001b[0m 3ms/step - attrition_output_accuracy: 0.8427 - attrition_output_loss: nan - department_output_accuracy: 0.6664 - department_output_loss: 5.3742 - loss: nan - val_attrition_output_accuracy: 0.8281 - val_attrition_output_loss: nan - val_department_output_accuracy: 0.6335 - val_department_output_loss: 5.9029 - val_loss: nan\n",
      "Epoch 20/100\n",
      "\u001b[1m28/28\u001b[0m \u001b[32m━━━━━━━━━━━━━━━━━━━━\u001b[0m\u001b[37m\u001b[0m \u001b[1m0s\u001b[0m 4ms/step - attrition_output_accuracy: 0.8555 - attrition_output_loss: nan - department_output_accuracy: 0.6852 - department_output_loss: 5.0763 - loss: nan - val_attrition_output_accuracy: 0.8281 - val_attrition_output_loss: nan - val_department_output_accuracy: 0.6335 - val_department_output_loss: 5.9029 - val_loss: nan\n",
      "Epoch 21/100\n",
      "\u001b[1m28/28\u001b[0m \u001b[32m━━━━━━━━━━━━━━━━━━━━\u001b[0m\u001b[37m\u001b[0m \u001b[1m0s\u001b[0m 4ms/step - attrition_output_accuracy: 0.8490 - attrition_output_loss: nan - department_output_accuracy: 0.6641 - department_output_loss: 5.4134 - loss: nan - val_attrition_output_accuracy: 0.8281 - val_attrition_output_loss: nan - val_department_output_accuracy: 0.6335 - val_department_output_loss: 5.9029 - val_loss: nan\n",
      "Epoch 22/100\n",
      "\u001b[1m28/28\u001b[0m \u001b[32m━━━━━━━━━━━━━━━━━━━━\u001b[0m\u001b[37m\u001b[0m \u001b[1m0s\u001b[0m 4ms/step - attrition_output_accuracy: 0.8502 - attrition_output_loss: nan - department_output_accuracy: 0.6621 - department_output_loss: 5.4443 - loss: nan - val_attrition_output_accuracy: 0.8281 - val_attrition_output_loss: nan - val_department_output_accuracy: 0.6335 - val_department_output_loss: 5.9029 - val_loss: nan\n",
      "Epoch 23/100\n",
      "\u001b[1m28/28\u001b[0m \u001b[32m━━━━━━━━━━━━━━━━━━━━\u001b[0m\u001b[37m\u001b[0m \u001b[1m0s\u001b[0m 4ms/step - attrition_output_accuracy: 0.8473 - attrition_output_loss: nan - department_output_accuracy: 0.6646 - department_output_loss: 5.4056 - loss: nan - val_attrition_output_accuracy: 0.8281 - val_attrition_output_loss: nan - val_department_output_accuracy: 0.6335 - val_department_output_loss: 5.9029 - val_loss: nan\n",
      "Epoch 24/100\n",
      "\u001b[1m28/28\u001b[0m \u001b[32m━━━━━━━━━━━━━━━━━━━━\u001b[0m\u001b[37m\u001b[0m \u001b[1m0s\u001b[0m 4ms/step - attrition_output_accuracy: 0.8342 - attrition_output_loss: nan - department_output_accuracy: 0.6845 - department_output_loss: 5.0870 - loss: nan - val_attrition_output_accuracy: 0.8281 - val_attrition_output_loss: nan - val_department_output_accuracy: 0.6335 - val_department_output_loss: 5.9029 - val_loss: nan\n",
      "Epoch 25/100\n",
      "\u001b[1m28/28\u001b[0m \u001b[32m━━━━━━━━━━━━━━━━━━━━\u001b[0m\u001b[37m\u001b[0m \u001b[1m0s\u001b[0m 4ms/step - attrition_output_accuracy: 0.8579 - attrition_output_loss: nan - department_output_accuracy: 0.6743 - department_output_loss: 5.2524 - loss: nan - val_attrition_output_accuracy: 0.8281 - val_attrition_output_loss: nan - val_department_output_accuracy: 0.6335 - val_department_output_loss: 5.9029 - val_loss: nan\n",
      "Epoch 26/100\n",
      "\u001b[1m28/28\u001b[0m \u001b[32m━━━━━━━━━━━━━━━━━━━━\u001b[0m\u001b[37m\u001b[0m \u001b[1m0s\u001b[0m 3ms/step - attrition_output_accuracy: 0.8651 - attrition_output_loss: nan - department_output_accuracy: 0.6489 - department_output_loss: 5.6598 - loss: nan - val_attrition_output_accuracy: 0.8281 - val_attrition_output_loss: nan - val_department_output_accuracy: 0.6335 - val_department_output_loss: 5.9029 - val_loss: nan\n",
      "Epoch 27/100\n",
      "\u001b[1m28/28\u001b[0m \u001b[32m━━━━━━━━━━━━━━━━━━━━\u001b[0m\u001b[37m\u001b[0m \u001b[1m0s\u001b[0m 3ms/step - attrition_output_accuracy: 0.8391 - attrition_output_loss: nan - department_output_accuracy: 0.6754 - department_output_loss: 5.2328 - loss: nan - val_attrition_output_accuracy: 0.8281 - val_attrition_output_loss: nan - val_department_output_accuracy: 0.6335 - val_department_output_loss: 5.9029 - val_loss: nan\n",
      "Epoch 28/100\n",
      "\u001b[1m28/28\u001b[0m \u001b[32m━━━━━━━━━━━━━━━━━━━━\u001b[0m\u001b[37m\u001b[0m \u001b[1m0s\u001b[0m 3ms/step - attrition_output_accuracy: 0.8593 - attrition_output_loss: nan - department_output_accuracy: 0.6579 - department_output_loss: 5.5108 - loss: nan - val_attrition_output_accuracy: 0.8281 - val_attrition_output_loss: nan - val_department_output_accuracy: 0.6335 - val_department_output_loss: 5.9029 - val_loss: nan\n",
      "Epoch 29/100\n",
      "\u001b[1m28/28\u001b[0m \u001b[32m━━━━━━━━━━━━━━━━━━━━\u001b[0m\u001b[37m\u001b[0m \u001b[1m0s\u001b[0m 4ms/step - attrition_output_accuracy: 0.8400 - attrition_output_loss: nan - department_output_accuracy: 0.6658 - department_output_loss: 5.3865 - loss: nan - val_attrition_output_accuracy: 0.8281 - val_attrition_output_loss: nan - val_department_output_accuracy: 0.6335 - val_department_output_loss: 5.9029 - val_loss: nan\n",
      "Epoch 30/100\n",
      "\u001b[1m28/28\u001b[0m \u001b[32m━━━━━━━━━━━━━━━━━━━━\u001b[0m\u001b[37m\u001b[0m \u001b[1m0s\u001b[0m 3ms/step - attrition_output_accuracy: 0.8289 - attrition_output_loss: nan - department_output_accuracy: 0.6438 - department_output_loss: 5.7416 - loss: nan - val_attrition_output_accuracy: 0.8281 - val_attrition_output_loss: nan - val_department_output_accuracy: 0.6335 - val_department_output_loss: 5.9029 - val_loss: nan\n",
      "Epoch 31/100\n",
      "\u001b[1m28/28\u001b[0m \u001b[32m━━━━━━━━━━━━━━━━━━━━\u001b[0m\u001b[37m\u001b[0m \u001b[1m0s\u001b[0m 3ms/step - attrition_output_accuracy: 0.8501 - attrition_output_loss: nan - department_output_accuracy: 0.6225 - department_output_loss: 6.0835 - loss: nan - val_attrition_output_accuracy: 0.8281 - val_attrition_output_loss: nan - val_department_output_accuracy: 0.6335 - val_department_output_loss: 5.9029 - val_loss: nan\n",
      "Epoch 32/100\n",
      "\u001b[1m28/28\u001b[0m \u001b[32m━━━━━━━━━━━━━━━━━━━━\u001b[0m\u001b[37m\u001b[0m \u001b[1m0s\u001b[0m 4ms/step - attrition_output_accuracy: 0.8350 - attrition_output_loss: nan - department_output_accuracy: 0.6682 - department_output_loss: 5.3449 - loss: nan - val_attrition_output_accuracy: 0.8281 - val_attrition_output_loss: nan - val_department_output_accuracy: 0.6335 - val_department_output_loss: 5.9029 - val_loss: nan\n",
      "Epoch 33/100\n",
      "\u001b[1m28/28\u001b[0m \u001b[32m━━━━━━━━━━━━━━━━━━━━\u001b[0m\u001b[37m\u001b[0m \u001b[1m0s\u001b[0m 4ms/step - attrition_output_accuracy: 0.8607 - attrition_output_loss: nan - department_output_accuracy: 0.6625 - department_output_loss: 5.4408 - loss: nan - val_attrition_output_accuracy: 0.8281 - val_attrition_output_loss: nan - val_department_output_accuracy: 0.6335 - val_department_output_loss: 5.9029 - val_loss: nan\n",
      "Epoch 34/100\n",
      "\u001b[1m28/28\u001b[0m \u001b[32m━━━━━━━━━━━━━━━━━━━━\u001b[0m\u001b[37m\u001b[0m \u001b[1m0s\u001b[0m 3ms/step - attrition_output_accuracy: 0.8639 - attrition_output_loss: nan - department_output_accuracy: 0.6729 - department_output_loss: 5.2752 - loss: nan - val_attrition_output_accuracy: 0.8281 - val_attrition_output_loss: nan - val_department_output_accuracy: 0.6335 - val_department_output_loss: 5.9029 - val_loss: nan\n",
      "Epoch 35/100\n",
      "\u001b[1m28/28\u001b[0m \u001b[32m━━━━━━━━━━━━━━━━━━━━\u001b[0m\u001b[37m\u001b[0m \u001b[1m0s\u001b[0m 3ms/step - attrition_output_accuracy: 0.8542 - attrition_output_loss: nan - department_output_accuracy: 0.6840 - department_output_loss: 5.0950 - loss: nan - val_attrition_output_accuracy: 0.8281 - val_attrition_output_loss: nan - val_department_output_accuracy: 0.6335 - val_department_output_loss: 5.9029 - val_loss: nan\n",
      "Epoch 36/100\n",
      "\u001b[1m28/28\u001b[0m \u001b[32m━━━━━━━━━━━━━━━━━━━━\u001b[0m\u001b[37m\u001b[0m \u001b[1m0s\u001b[0m 5ms/step - attrition_output_accuracy: 0.8419 - attrition_output_loss: nan - department_output_accuracy: 0.6704 - department_output_loss: 5.3145 - loss: nan - val_attrition_output_accuracy: 0.8281 - val_attrition_output_loss: nan - val_department_output_accuracy: 0.6335 - val_department_output_loss: 5.9029 - val_loss: nan\n",
      "Epoch 37/100\n",
      "\u001b[1m28/28\u001b[0m \u001b[32m━━━━━━━━━━━━━━━━━━━━\u001b[0m\u001b[37m\u001b[0m \u001b[1m0s\u001b[0m 4ms/step - attrition_output_accuracy: 0.8548 - attrition_output_loss: nan - department_output_accuracy: 0.6528 - department_output_loss: 5.5941 - loss: nan - val_attrition_output_accuracy: 0.8281 - val_attrition_output_loss: nan - val_department_output_accuracy: 0.6335 - val_department_output_loss: 5.9029 - val_loss: nan\n",
      "Epoch 38/100\n",
      "\u001b[1m28/28\u001b[0m \u001b[32m━━━━━━━━━━━━━━━━━━━━\u001b[0m\u001b[37m\u001b[0m \u001b[1m0s\u001b[0m 4ms/step - attrition_output_accuracy: 0.8582 - attrition_output_loss: nan - department_output_accuracy: 0.6639 - department_output_loss: 5.4162 - loss: nan - val_attrition_output_accuracy: 0.8281 - val_attrition_output_loss: nan - val_department_output_accuracy: 0.6335 - val_department_output_loss: 5.9029 - val_loss: nan\n",
      "Epoch 39/100\n",
      "\u001b[1m28/28\u001b[0m \u001b[32m━━━━━━━━━━━━━━━━━━━━\u001b[0m\u001b[37m\u001b[0m \u001b[1m0s\u001b[0m 3ms/step - attrition_output_accuracy: 0.8505 - attrition_output_loss: nan - department_output_accuracy: 0.6679 - department_output_loss: 5.3536 - loss: nan - val_attrition_output_accuracy: 0.8281 - val_attrition_output_loss: nan - val_department_output_accuracy: 0.6335 - val_department_output_loss: 5.9029 - val_loss: nan\n",
      "Epoch 40/100\n",
      "\u001b[1m28/28\u001b[0m \u001b[32m━━━━━━━━━━━━━━━━━━━━\u001b[0m\u001b[37m\u001b[0m \u001b[1m0s\u001b[0m 3ms/step - attrition_output_accuracy: 0.8579 - attrition_output_loss: nan - department_output_accuracy: 0.6636 - department_output_loss: 5.4219 - loss: nan - val_attrition_output_accuracy: 0.8281 - val_attrition_output_loss: nan - val_department_output_accuracy: 0.6335 - val_department_output_loss: 5.9029 - val_loss: nan\n",
      "Epoch 41/100\n",
      "\u001b[1m28/28\u001b[0m \u001b[32m━━━━━━━━━━━━━━━━━━━━\u001b[0m\u001b[37m\u001b[0m \u001b[1m0s\u001b[0m 4ms/step - attrition_output_accuracy: 0.8472 - attrition_output_loss: nan - department_output_accuracy: 0.6527 - department_output_loss: 5.5977 - loss: nan - val_attrition_output_accuracy: 0.8281 - val_attrition_output_loss: nan - val_department_output_accuracy: 0.6335 - val_department_output_loss: 5.9029 - val_loss: nan\n",
      "Epoch 42/100\n",
      "\u001b[1m28/28\u001b[0m \u001b[32m━━━━━━━━━━━━━━━━━━━━\u001b[0m\u001b[37m\u001b[0m \u001b[1m0s\u001b[0m 4ms/step - attrition_output_accuracy: 0.8486 - attrition_output_loss: nan - department_output_accuracy: 0.6454 - department_output_loss: 5.7147 - loss: nan - val_attrition_output_accuracy: 0.8281 - val_attrition_output_loss: nan - val_department_output_accuracy: 0.6335 - val_department_output_loss: 5.9029 - val_loss: nan\n",
      "Epoch 43/100\n",
      "\u001b[1m28/28\u001b[0m \u001b[32m━━━━━━━━━━━━━━━━━━━━\u001b[0m\u001b[37m\u001b[0m \u001b[1m0s\u001b[0m 3ms/step - attrition_output_accuracy: 0.8460 - attrition_output_loss: nan - department_output_accuracy: 0.6487 - department_output_loss: 5.6634 - loss: nan - val_attrition_output_accuracy: 0.8281 - val_attrition_output_loss: nan - val_department_output_accuracy: 0.6335 - val_department_output_loss: 5.9029 - val_loss: nan\n",
      "Epoch 44/100\n",
      "\u001b[1m28/28\u001b[0m \u001b[32m━━━━━━━━━━━━━━━━━━━━\u001b[0m\u001b[37m\u001b[0m \u001b[1m0s\u001b[0m 4ms/step - attrition_output_accuracy: 0.8607 - attrition_output_loss: nan - department_output_accuracy: 0.6757 - department_output_loss: 5.2278 - loss: nan - val_attrition_output_accuracy: 0.8281 - val_attrition_output_loss: nan - val_department_output_accuracy: 0.6335 - val_department_output_loss: 5.9029 - val_loss: nan\n",
      "Epoch 45/100\n",
      "\u001b[1m28/28\u001b[0m \u001b[32m━━━━━━━━━━━━━━━━━━━━\u001b[0m\u001b[37m\u001b[0m \u001b[1m0s\u001b[0m 4ms/step - attrition_output_accuracy: 0.8583 - attrition_output_loss: nan - department_output_accuracy: 0.6700 - department_output_loss: 5.3233 - loss: nan - val_attrition_output_accuracy: 0.8281 - val_attrition_output_loss: nan - val_department_output_accuracy: 0.6335 - val_department_output_loss: 5.9029 - val_loss: nan\n",
      "Epoch 46/100\n",
      "\u001b[1m28/28\u001b[0m \u001b[32m━━━━━━━━━━━━━━━━━━━━\u001b[0m\u001b[37m\u001b[0m \u001b[1m0s\u001b[0m 3ms/step - attrition_output_accuracy: 0.8384 - attrition_output_loss: nan - department_output_accuracy: 0.6679 - department_output_loss: 5.3498 - loss: nan - val_attrition_output_accuracy: 0.8281 - val_attrition_output_loss: nan - val_department_output_accuracy: 0.6335 - val_department_output_loss: 5.9029 - val_loss: nan\n",
      "Epoch 47/100\n",
      "\u001b[1m28/28\u001b[0m \u001b[32m━━━━━━━━━━━━━━━━━━━━\u001b[0m\u001b[37m\u001b[0m \u001b[1m0s\u001b[0m 4ms/step - attrition_output_accuracy: 0.8526 - attrition_output_loss: nan - department_output_accuracy: 0.6582 - department_output_loss: 5.5054 - loss: nan - val_attrition_output_accuracy: 0.8281 - val_attrition_output_loss: nan - val_department_output_accuracy: 0.6335 - val_department_output_loss: 5.9029 - val_loss: nan\n",
      "Epoch 48/100\n",
      "\u001b[1m28/28\u001b[0m \u001b[32m━━━━━━━━━━━━━━━━━━━━\u001b[0m\u001b[37m\u001b[0m \u001b[1m0s\u001b[0m 4ms/step - attrition_output_accuracy: 0.8672 - attrition_output_loss: nan - department_output_accuracy: 0.6415 - department_output_loss: 5.7737 - loss: nan - val_attrition_output_accuracy: 0.8281 - val_attrition_output_loss: nan - val_department_output_accuracy: 0.6335 - val_department_output_loss: 5.9029 - val_loss: nan\n",
      "Epoch 49/100\n",
      "\u001b[1m28/28\u001b[0m \u001b[32m━━━━━━━━━━━━━━━━━━━━\u001b[0m\u001b[37m\u001b[0m \u001b[1m0s\u001b[0m 3ms/step - attrition_output_accuracy: 0.8514 - attrition_output_loss: nan - department_output_accuracy: 0.6869 - department_output_loss: 5.0496 - loss: nan - val_attrition_output_accuracy: 0.8281 - val_attrition_output_loss: nan - val_department_output_accuracy: 0.6335 - val_department_output_loss: 5.9029 - val_loss: nan\n",
      "Epoch 50/100\n",
      "\u001b[1m28/28\u001b[0m \u001b[32m━━━━━━━━━━━━━━━━━━━━\u001b[0m\u001b[37m\u001b[0m \u001b[1m0s\u001b[0m 4ms/step - attrition_output_accuracy: 0.8470 - attrition_output_loss: nan - department_output_accuracy: 0.6663 - department_output_loss: 5.3789 - loss: nan - val_attrition_output_accuracy: 0.8281 - val_attrition_output_loss: nan - val_department_output_accuracy: 0.6335 - val_department_output_loss: 5.9029 - val_loss: nan\n",
      "Epoch 51/100\n",
      "\u001b[1m28/28\u001b[0m \u001b[32m━━━━━━━━━━━━━━━━━━━━\u001b[0m\u001b[37m\u001b[0m \u001b[1m0s\u001b[0m 3ms/step - attrition_output_accuracy: 0.8568 - attrition_output_loss: nan - department_output_accuracy: 0.7008 - department_output_loss: 4.8236 - loss: nan - val_attrition_output_accuracy: 0.8281 - val_attrition_output_loss: nan - val_department_output_accuracy: 0.6335 - val_department_output_loss: 5.9029 - val_loss: nan\n",
      "Epoch 52/100\n",
      "\u001b[1m28/28\u001b[0m \u001b[32m━━━━━━━━━━━━━━━━━━━━\u001b[0m\u001b[37m\u001b[0m \u001b[1m0s\u001b[0m 3ms/step - attrition_output_accuracy: 0.8443 - attrition_output_loss: nan - department_output_accuracy: 0.6478 - department_output_loss: 5.6776 - loss: nan - val_attrition_output_accuracy: 0.8281 - val_attrition_output_loss: nan - val_department_output_accuracy: 0.6335 - val_department_output_loss: 5.9029 - val_loss: nan\n",
      "Epoch 53/100\n",
      "\u001b[1m28/28\u001b[0m \u001b[32m━━━━━━━━━━━━━━━━━━━━\u001b[0m\u001b[37m\u001b[0m \u001b[1m0s\u001b[0m 4ms/step - attrition_output_accuracy: 0.8433 - attrition_output_loss: nan - department_output_accuracy: 0.6536 - department_output_loss: 5.5841 - loss: nan - val_attrition_output_accuracy: 0.8281 - val_attrition_output_loss: nan - val_department_output_accuracy: 0.6335 - val_department_output_loss: 5.9029 - val_loss: nan\n",
      "Epoch 54/100\n",
      "\u001b[1m28/28\u001b[0m \u001b[32m━━━━━━━━━━━━━━━━━━━━\u001b[0m\u001b[37m\u001b[0m \u001b[1m0s\u001b[0m 4ms/step - attrition_output_accuracy: 0.8551 - attrition_output_loss: nan - department_output_accuracy: 0.6608 - department_output_loss: 5.4645 - loss: nan - val_attrition_output_accuracy: 0.8281 - val_attrition_output_loss: nan - val_department_output_accuracy: 0.6335 - val_department_output_loss: 5.9029 - val_loss: nan\n",
      "Epoch 55/100\n",
      "\u001b[1m28/28\u001b[0m \u001b[32m━━━━━━━━━━━━━━━━━━━━\u001b[0m\u001b[37m\u001b[0m \u001b[1m0s\u001b[0m 4ms/step - attrition_output_accuracy: 0.8569 - attrition_output_loss: nan - department_output_accuracy: 0.6642 - department_output_loss: 5.4131 - loss: nan - val_attrition_output_accuracy: 0.8281 - val_attrition_output_loss: nan - val_department_output_accuracy: 0.6335 - val_department_output_loss: 5.9029 - val_loss: nan\n",
      "Epoch 56/100\n",
      "\u001b[1m28/28\u001b[0m \u001b[32m━━━━━━━━━━━━━━━━━━━━\u001b[0m\u001b[37m\u001b[0m \u001b[1m0s\u001b[0m 3ms/step - attrition_output_accuracy: 0.8516 - attrition_output_loss: nan - department_output_accuracy: 0.6788 - department_output_loss: 5.1785 - loss: nan - val_attrition_output_accuracy: 0.8281 - val_attrition_output_loss: nan - val_department_output_accuracy: 0.6335 - val_department_output_loss: 5.9029 - val_loss: nan\n",
      "Epoch 57/100\n",
      "\u001b[1m28/28\u001b[0m \u001b[32m━━━━━━━━━━━━━━━━━━━━\u001b[0m\u001b[37m\u001b[0m \u001b[1m0s\u001b[0m 4ms/step - attrition_output_accuracy: 0.8349 - attrition_output_loss: nan - department_output_accuracy: 0.6711 - department_output_loss: 5.3014 - loss: nan - val_attrition_output_accuracy: 0.8281 - val_attrition_output_loss: nan - val_department_output_accuracy: 0.6335 - val_department_output_loss: 5.9029 - val_loss: nan\n",
      "Epoch 58/100\n",
      "\u001b[1m28/28\u001b[0m \u001b[32m━━━━━━━━━━━━━━━━━━━━\u001b[0m\u001b[37m\u001b[0m \u001b[1m0s\u001b[0m 3ms/step - attrition_output_accuracy: 0.8553 - attrition_output_loss: nan - department_output_accuracy: 0.6781 - department_output_loss: 5.1927 - loss: nan - val_attrition_output_accuracy: 0.8281 - val_attrition_output_loss: nan - val_department_output_accuracy: 0.6335 - val_department_output_loss: 5.9029 - val_loss: nan\n",
      "Epoch 59/100\n",
      "\u001b[1m28/28\u001b[0m \u001b[32m━━━━━━━━━━━━━━━━━━━━\u001b[0m\u001b[37m\u001b[0m \u001b[1m0s\u001b[0m 3ms/step - attrition_output_accuracy: 0.8534 - attrition_output_loss: nan - department_output_accuracy: 0.6583 - department_output_loss: 5.5098 - loss: nan - val_attrition_output_accuracy: 0.8281 - val_attrition_output_loss: nan - val_department_output_accuracy: 0.6335 - val_department_output_loss: 5.9029 - val_loss: nan\n",
      "Epoch 60/100\n",
      "\u001b[1m28/28\u001b[0m \u001b[32m━━━━━━━━━━━━━━━━━━━━\u001b[0m\u001b[37m\u001b[0m \u001b[1m0s\u001b[0m 3ms/step - attrition_output_accuracy: 0.8484 - attrition_output_loss: nan - department_output_accuracy: 0.6609 - department_output_loss: 5.4628 - loss: nan - val_attrition_output_accuracy: 0.8281 - val_attrition_output_loss: nan - val_department_output_accuracy: 0.6335 - val_department_output_loss: 5.9029 - val_loss: nan\n",
      "Epoch 61/100\n",
      "\u001b[1m28/28\u001b[0m \u001b[32m━━━━━━━━━━━━━━━━━━━━\u001b[0m\u001b[37m\u001b[0m \u001b[1m0s\u001b[0m 3ms/step - attrition_output_accuracy: 0.8739 - attrition_output_loss: nan - department_output_accuracy: 0.6669 - department_output_loss: 5.3674 - loss: nan - val_attrition_output_accuracy: 0.8281 - val_attrition_output_loss: nan - val_department_output_accuracy: 0.6335 - val_department_output_loss: 5.9029 - val_loss: nan\n",
      "Epoch 62/100\n",
      "\u001b[1m28/28\u001b[0m \u001b[32m━━━━━━━━━━━━━━━━━━━━\u001b[0m\u001b[37m\u001b[0m \u001b[1m0s\u001b[0m 5ms/step - attrition_output_accuracy: 0.8319 - attrition_output_loss: nan - department_output_accuracy: 0.6547 - department_output_loss: 5.5679 - loss: nan - val_attrition_output_accuracy: 0.8281 - val_attrition_output_loss: nan - val_department_output_accuracy: 0.6335 - val_department_output_loss: 5.9029 - val_loss: nan\n",
      "Epoch 63/100\n",
      "\u001b[1m28/28\u001b[0m \u001b[32m━━━━━━━━━━━━━━━━━━━━\u001b[0m\u001b[37m\u001b[0m \u001b[1m0s\u001b[0m 3ms/step - attrition_output_accuracy: 0.8752 - attrition_output_loss: nan - department_output_accuracy: 0.6745 - department_output_loss: 5.2451 - loss: nan - val_attrition_output_accuracy: 0.8281 - val_attrition_output_loss: nan - val_department_output_accuracy: 0.6335 - val_department_output_loss: 5.9029 - val_loss: nan\n",
      "Epoch 64/100\n",
      "\u001b[1m28/28\u001b[0m \u001b[32m━━━━━━━━━━━━━━━━━━━━\u001b[0m\u001b[37m\u001b[0m \u001b[1m0s\u001b[0m 3ms/step - attrition_output_accuracy: 0.8424 - attrition_output_loss: nan - department_output_accuracy: 0.6787 - department_output_loss: 5.1783 - loss: nan - val_attrition_output_accuracy: 0.8281 - val_attrition_output_loss: nan - val_department_output_accuracy: 0.6335 - val_department_output_loss: 5.9029 - val_loss: nan\n",
      "Epoch 65/100\n",
      "\u001b[1m28/28\u001b[0m \u001b[32m━━━━━━━━━━━━━━━━━━━━\u001b[0m\u001b[37m\u001b[0m \u001b[1m0s\u001b[0m 3ms/step - attrition_output_accuracy: 0.8572 - attrition_output_loss: nan - department_output_accuracy: 0.6408 - department_output_loss: 5.7905 - loss: nan - val_attrition_output_accuracy: 0.8281 - val_attrition_output_loss: nan - val_department_output_accuracy: 0.6335 - val_department_output_loss: 5.9029 - val_loss: nan\n",
      "Epoch 66/100\n",
      "\u001b[1m28/28\u001b[0m \u001b[32m━━━━━━━━━━━━━━━━━━━━\u001b[0m\u001b[37m\u001b[0m \u001b[1m0s\u001b[0m 3ms/step - attrition_output_accuracy: 0.8540 - attrition_output_loss: nan - department_output_accuracy: 0.6662 - department_output_loss: 5.3822 - loss: nan - val_attrition_output_accuracy: 0.8281 - val_attrition_output_loss: nan - val_department_output_accuracy: 0.6335 - val_department_output_loss: 5.9029 - val_loss: nan\n",
      "Epoch 67/100\n",
      "\u001b[1m28/28\u001b[0m \u001b[32m━━━━━━━━━━━━━━━━━━━━\u001b[0m\u001b[37m\u001b[0m \u001b[1m0s\u001b[0m 3ms/step - attrition_output_accuracy: 0.8460 - attrition_output_loss: nan - department_output_accuracy: 0.6463 - department_output_loss: 5.7022 - loss: nan - val_attrition_output_accuracy: 0.8281 - val_attrition_output_loss: nan - val_department_output_accuracy: 0.6335 - val_department_output_loss: 5.9029 - val_loss: nan\n",
      "Epoch 68/100\n",
      "\u001b[1m28/28\u001b[0m \u001b[32m━━━━━━━━━━━━━━━━━━━━\u001b[0m\u001b[37m\u001b[0m \u001b[1m0s\u001b[0m 3ms/step - attrition_output_accuracy: 0.8536 - attrition_output_loss: nan - department_output_accuracy: 0.6760 - department_output_loss: 5.2236 - loss: nan - val_attrition_output_accuracy: 0.8281 - val_attrition_output_loss: nan - val_department_output_accuracy: 0.6335 - val_department_output_loss: 5.9029 - val_loss: nan\n",
      "Epoch 69/100\n",
      "\u001b[1m28/28\u001b[0m \u001b[32m━━━━━━━━━━━━━━━━━━━━\u001b[0m\u001b[37m\u001b[0m \u001b[1m0s\u001b[0m 3ms/step - attrition_output_accuracy: 0.8216 - attrition_output_loss: nan - department_output_accuracy: 0.6636 - department_output_loss: 5.4224 - loss: nan - val_attrition_output_accuracy: 0.8281 - val_attrition_output_loss: nan - val_department_output_accuracy: 0.6335 - val_department_output_loss: 5.9029 - val_loss: nan\n",
      "Epoch 70/100\n",
      "\u001b[1m28/28\u001b[0m \u001b[32m━━━━━━━━━━━━━━━━━━━━\u001b[0m\u001b[37m\u001b[0m \u001b[1m0s\u001b[0m 3ms/step - attrition_output_accuracy: 0.8263 - attrition_output_loss: nan - department_output_accuracy: 0.6511 - department_output_loss: 5.6230 - loss: nan - val_attrition_output_accuracy: 0.8281 - val_attrition_output_loss: nan - val_department_output_accuracy: 0.6335 - val_department_output_loss: 5.9029 - val_loss: nan\n",
      "Epoch 71/100\n",
      "\u001b[1m28/28\u001b[0m \u001b[32m━━━━━━━━━━━━━━━━━━━━\u001b[0m\u001b[37m\u001b[0m \u001b[1m0s\u001b[0m 3ms/step - attrition_output_accuracy: 0.8550 - attrition_output_loss: nan - department_output_accuracy: 0.6486 - department_output_loss: 5.6670 - loss: nan - val_attrition_output_accuracy: 0.8281 - val_attrition_output_loss: nan - val_department_output_accuracy: 0.6335 - val_department_output_loss: 5.9029 - val_loss: nan\n",
      "Epoch 72/100\n",
      "\u001b[1m28/28\u001b[0m \u001b[32m━━━━━━━━━━━━━━━━━━━━\u001b[0m\u001b[37m\u001b[0m \u001b[1m0s\u001b[0m 3ms/step - attrition_output_accuracy: 0.8328 - attrition_output_loss: nan - department_output_accuracy: 0.6667 - department_output_loss: 5.3715 - loss: nan - val_attrition_output_accuracy: 0.8281 - val_attrition_output_loss: nan - val_department_output_accuracy: 0.6335 - val_department_output_loss: 5.9029 - val_loss: nan\n",
      "Epoch 73/100\n",
      "\u001b[1m28/28\u001b[0m \u001b[32m━━━━━━━━━━━━━━━━━━━━\u001b[0m\u001b[37m\u001b[0m \u001b[1m0s\u001b[0m 3ms/step - attrition_output_accuracy: 0.8507 - attrition_output_loss: nan - department_output_accuracy: 0.6697 - department_output_loss: 5.3218 - loss: nan - val_attrition_output_accuracy: 0.8281 - val_attrition_output_loss: nan - val_department_output_accuracy: 0.6335 - val_department_output_loss: 5.9029 - val_loss: nan\n",
      "Epoch 74/100\n",
      "\u001b[1m28/28\u001b[0m \u001b[32m━━━━━━━━━━━━━━━━━━━━\u001b[0m\u001b[37m\u001b[0m \u001b[1m0s\u001b[0m 3ms/step - attrition_output_accuracy: 0.8278 - attrition_output_loss: nan - department_output_accuracy: 0.6461 - department_output_loss: 5.7019 - loss: nan - val_attrition_output_accuracy: 0.8281 - val_attrition_output_loss: nan - val_department_output_accuracy: 0.6335 - val_department_output_loss: 5.9029 - val_loss: nan\n",
      "Epoch 75/100\n",
      "\u001b[1m28/28\u001b[0m \u001b[32m━━━━━━━━━━━━━━━━━━━━\u001b[0m\u001b[37m\u001b[0m \u001b[1m0s\u001b[0m 3ms/step - attrition_output_accuracy: 0.8498 - attrition_output_loss: nan - department_output_accuracy: 0.6582 - department_output_loss: 5.5122 - loss: nan - val_attrition_output_accuracy: 0.8281 - val_attrition_output_loss: nan - val_department_output_accuracy: 0.6335 - val_department_output_loss: 5.9029 - val_loss: nan\n",
      "Epoch 76/100\n",
      "\u001b[1m28/28\u001b[0m \u001b[32m━━━━━━━━━━━━━━━━━━━━\u001b[0m\u001b[37m\u001b[0m \u001b[1m0s\u001b[0m 3ms/step - attrition_output_accuracy: 0.8608 - attrition_output_loss: nan - department_output_accuracy: 0.6363 - department_output_loss: 5.8612 - loss: nan - val_attrition_output_accuracy: 0.8281 - val_attrition_output_loss: nan - val_department_output_accuracy: 0.6335 - val_department_output_loss: 5.9029 - val_loss: nan\n",
      "Epoch 77/100\n",
      "\u001b[1m28/28\u001b[0m \u001b[32m━━━━━━━━━━━━━━━━━━━━\u001b[0m\u001b[37m\u001b[0m \u001b[1m0s\u001b[0m 3ms/step - attrition_output_accuracy: 0.8483 - attrition_output_loss: nan - department_output_accuracy: 0.6558 - department_output_loss: 5.5444 - loss: nan - val_attrition_output_accuracy: 0.8281 - val_attrition_output_loss: nan - val_department_output_accuracy: 0.6335 - val_department_output_loss: 5.9029 - val_loss: nan\n",
      "Epoch 78/100\n",
      "\u001b[1m28/28\u001b[0m \u001b[32m━━━━━━━━━━━━━━━━━━━━\u001b[0m\u001b[37m\u001b[0m \u001b[1m0s\u001b[0m 3ms/step - attrition_output_accuracy: 0.8427 - attrition_output_loss: nan - department_output_accuracy: 0.6600 - department_output_loss: 5.4776 - loss: nan - val_attrition_output_accuracy: 0.8281 - val_attrition_output_loss: nan - val_department_output_accuracy: 0.6335 - val_department_output_loss: 5.9029 - val_loss: nan\n",
      "Epoch 79/100\n",
      "\u001b[1m28/28\u001b[0m \u001b[32m━━━━━━━━━━━━━━━━━━━━\u001b[0m\u001b[37m\u001b[0m \u001b[1m0s\u001b[0m 3ms/step - attrition_output_accuracy: 0.8391 - attrition_output_loss: nan - department_output_accuracy: 0.6643 - department_output_loss: 5.4108 - loss: nan - val_attrition_output_accuracy: 0.8281 - val_attrition_output_loss: nan - val_department_output_accuracy: 0.6335 - val_department_output_loss: 5.9029 - val_loss: nan\n",
      "Epoch 80/100\n",
      "\u001b[1m28/28\u001b[0m \u001b[32m━━━━━━━━━━━━━━━━━━━━\u001b[0m\u001b[37m\u001b[0m \u001b[1m0s\u001b[0m 3ms/step - attrition_output_accuracy: 0.8515 - attrition_output_loss: nan - department_output_accuracy: 0.6713 - department_output_loss: 5.2995 - loss: nan - val_attrition_output_accuracy: 0.8281 - val_attrition_output_loss: nan - val_department_output_accuracy: 0.6335 - val_department_output_loss: 5.9029 - val_loss: nan\n",
      "Epoch 81/100\n",
      "\u001b[1m28/28\u001b[0m \u001b[32m━━━━━━━━━━━━━━━━━━━━\u001b[0m\u001b[37m\u001b[0m \u001b[1m0s\u001b[0m 3ms/step - attrition_output_accuracy: 0.8465 - attrition_output_loss: nan - department_output_accuracy: 0.6574 - department_output_loss: 5.5219 - loss: nan - val_attrition_output_accuracy: 0.8281 - val_attrition_output_loss: nan - val_department_output_accuracy: 0.6335 - val_department_output_loss: 5.9029 - val_loss: nan\n",
      "Epoch 82/100\n",
      "\u001b[1m28/28\u001b[0m \u001b[32m━━━━━━━━━━━━━━━━━━━━\u001b[0m\u001b[37m\u001b[0m \u001b[1m0s\u001b[0m 3ms/step - attrition_output_accuracy: 0.8336 - attrition_output_loss: nan - department_output_accuracy: 0.6851 - department_output_loss: 5.0752 - loss: nan - val_attrition_output_accuracy: 0.8281 - val_attrition_output_loss: nan - val_department_output_accuracy: 0.6335 - val_department_output_loss: 5.9029 - val_loss: nan\n",
      "Epoch 83/100\n",
      "\u001b[1m28/28\u001b[0m \u001b[32m━━━━━━━━━━━━━━━━━━━━\u001b[0m\u001b[37m\u001b[0m \u001b[1m0s\u001b[0m 4ms/step - attrition_output_accuracy: 0.8645 - attrition_output_loss: nan - department_output_accuracy: 0.6591 - department_output_loss: 5.4965 - loss: nan - val_attrition_output_accuracy: 0.8281 - val_attrition_output_loss: nan - val_department_output_accuracy: 0.6335 - val_department_output_loss: 5.9029 - val_loss: nan\n",
      "Epoch 84/100\n",
      "\u001b[1m28/28\u001b[0m \u001b[32m━━━━━━━━━━━━━━━━━━━━\u001b[0m\u001b[37m\u001b[0m \u001b[1m0s\u001b[0m 3ms/step - attrition_output_accuracy: 0.8765 - attrition_output_loss: nan - department_output_accuracy: 0.6521 - department_output_loss: 5.6082 - loss: nan - val_attrition_output_accuracy: 0.8281 - val_attrition_output_loss: nan - val_department_output_accuracy: 0.6335 - val_department_output_loss: 5.9029 - val_loss: nan\n",
      "Epoch 85/100\n",
      "\u001b[1m28/28\u001b[0m \u001b[32m━━━━━━━━━━━━━━━━━━━━\u001b[0m\u001b[37m\u001b[0m \u001b[1m0s\u001b[0m 3ms/step - attrition_output_accuracy: 0.8509 - attrition_output_loss: nan - department_output_accuracy: 0.6442 - department_output_loss: 5.7368 - loss: nan - val_attrition_output_accuracy: 0.8281 - val_attrition_output_loss: nan - val_department_output_accuracy: 0.6335 - val_department_output_loss: 5.9029 - val_loss: nan\n",
      "Epoch 86/100\n",
      "\u001b[1m28/28\u001b[0m \u001b[32m━━━━━━━━━━━━━━━━━━━━\u001b[0m\u001b[37m\u001b[0m \u001b[1m0s\u001b[0m 3ms/step - attrition_output_accuracy: 0.8467 - attrition_output_loss: nan - department_output_accuracy: 0.6523 - department_output_loss: 5.6062 - loss: nan - val_attrition_output_accuracy: 0.8281 - val_attrition_output_loss: nan - val_department_output_accuracy: 0.6335 - val_department_output_loss: 5.9029 - val_loss: nan\n",
      "Epoch 87/100\n",
      "\u001b[1m28/28\u001b[0m \u001b[32m━━━━━━━━━━━━━━━━━━━━\u001b[0m\u001b[37m\u001b[0m \u001b[1m0s\u001b[0m 3ms/step - attrition_output_accuracy: 0.8618 - attrition_output_loss: nan - department_output_accuracy: 0.6738 - department_output_loss: 5.2580 - loss: nan - val_attrition_output_accuracy: 0.8281 - val_attrition_output_loss: nan - val_department_output_accuracy: 0.6335 - val_department_output_loss: 5.9029 - val_loss: nan\n",
      "Epoch 88/100\n",
      "\u001b[1m28/28\u001b[0m \u001b[32m━━━━━━━━━━━━━━━━━━━━\u001b[0m\u001b[37m\u001b[0m \u001b[1m0s\u001b[0m 3ms/step - attrition_output_accuracy: 0.8656 - attrition_output_loss: nan - department_output_accuracy: 0.6727 - department_output_loss: 5.2718 - loss: nan - val_attrition_output_accuracy: 0.8281 - val_attrition_output_loss: nan - val_department_output_accuracy: 0.6335 - val_department_output_loss: 5.9029 - val_loss: nan\n",
      "Epoch 89/100\n",
      "\u001b[1m28/28\u001b[0m \u001b[32m━━━━━━━━━━━━━━━━━━━━\u001b[0m\u001b[37m\u001b[0m \u001b[1m0s\u001b[0m 3ms/step - attrition_output_accuracy: 0.8632 - attrition_output_loss: nan - department_output_accuracy: 0.6814 - department_output_loss: 5.1356 - loss: nan - val_attrition_output_accuracy: 0.8281 - val_attrition_output_loss: nan - val_department_output_accuracy: 0.6335 - val_department_output_loss: 5.9029 - val_loss: nan\n",
      "Epoch 90/100\n",
      "\u001b[1m28/28\u001b[0m \u001b[32m━━━━━━━━━━━━━━━━━━━━\u001b[0m\u001b[37m\u001b[0m \u001b[1m0s\u001b[0m 3ms/step - attrition_output_accuracy: 0.8448 - attrition_output_loss: nan - department_output_accuracy: 0.6747 - department_output_loss: 5.2395 - loss: nan - val_attrition_output_accuracy: 0.8281 - val_attrition_output_loss: nan - val_department_output_accuracy: 0.6335 - val_department_output_loss: 5.9029 - val_loss: nan\n",
      "Epoch 91/100\n",
      "\u001b[1m28/28\u001b[0m \u001b[32m━━━━━━━━━━━━━━━━━━━━\u001b[0m\u001b[37m\u001b[0m \u001b[1m0s\u001b[0m 3ms/step - attrition_output_accuracy: 0.8505 - attrition_output_loss: nan - department_output_accuracy: 0.6498 - department_output_loss: 5.6437 - loss: nan - val_attrition_output_accuracy: 0.8281 - val_attrition_output_loss: nan - val_department_output_accuracy: 0.6335 - val_department_output_loss: 5.9029 - val_loss: nan\n",
      "Epoch 92/100\n",
      "\u001b[1m28/28\u001b[0m \u001b[32m━━━━━━━━━━━━━━━━━━━━\u001b[0m\u001b[37m\u001b[0m \u001b[1m0s\u001b[0m 3ms/step - attrition_output_accuracy: 0.8498 - attrition_output_loss: nan - department_output_accuracy: 0.6848 - department_output_loss: 5.0803 - loss: nan - val_attrition_output_accuracy: 0.8281 - val_attrition_output_loss: nan - val_department_output_accuracy: 0.6335 - val_department_output_loss: 5.9029 - val_loss: nan\n",
      "Epoch 93/100\n",
      "\u001b[1m28/28\u001b[0m \u001b[32m━━━━━━━━━━━━━━━━━━━━\u001b[0m\u001b[37m\u001b[0m \u001b[1m0s\u001b[0m 3ms/step - attrition_output_accuracy: 0.8321 - attrition_output_loss: nan - department_output_accuracy: 0.6605 - department_output_loss: 5.4708 - loss: nan - val_attrition_output_accuracy: 0.8281 - val_attrition_output_loss: nan - val_department_output_accuracy: 0.6335 - val_department_output_loss: 5.9029 - val_loss: nan\n",
      "Epoch 94/100\n",
      "\u001b[1m28/28\u001b[0m \u001b[32m━━━━━━━━━━━━━━━━━━━━\u001b[0m\u001b[37m\u001b[0m \u001b[1m0s\u001b[0m 4ms/step - attrition_output_accuracy: 0.8617 - attrition_output_loss: nan - department_output_accuracy: 0.6879 - department_output_loss: 5.0330 - loss: nan - val_attrition_output_accuracy: 0.8281 - val_attrition_output_loss: nan - val_department_output_accuracy: 0.6335 - val_department_output_loss: 5.9029 - val_loss: nan\n",
      "Epoch 95/100\n",
      "\u001b[1m28/28\u001b[0m \u001b[32m━━━━━━━━━━━━━━━━━━━━\u001b[0m\u001b[37m\u001b[0m \u001b[1m0s\u001b[0m 4ms/step - attrition_output_accuracy: 0.8486 - attrition_output_loss: nan - department_output_accuracy: 0.6666 - department_output_loss: 5.3756 - loss: nan - val_attrition_output_accuracy: 0.8281 - val_attrition_output_loss: nan - val_department_output_accuracy: 0.6335 - val_department_output_loss: 5.9029 - val_loss: nan\n",
      "Epoch 96/100\n",
      "\u001b[1m28/28\u001b[0m \u001b[32m━━━━━━━━━━━━━━━━━━━━\u001b[0m\u001b[37m\u001b[0m \u001b[1m0s\u001b[0m 3ms/step - attrition_output_accuracy: 0.8767 - attrition_output_loss: nan - department_output_accuracy: 0.6722 - department_output_loss: 5.2815 - loss: nan - val_attrition_output_accuracy: 0.8281 - val_attrition_output_loss: nan - val_department_output_accuracy: 0.6335 - val_department_output_loss: 5.9029 - val_loss: nan\n",
      "Epoch 97/100\n",
      "\u001b[1m28/28\u001b[0m \u001b[32m━━━━━━━━━━━━━━━━━━━━\u001b[0m\u001b[37m\u001b[0m \u001b[1m0s\u001b[0m 3ms/step - attrition_output_accuracy: 0.8607 - attrition_output_loss: nan - department_output_accuracy: 0.6444 - department_output_loss: 5.7293 - loss: nan - val_attrition_output_accuracy: 0.8281 - val_attrition_output_loss: nan - val_department_output_accuracy: 0.6335 - val_department_output_loss: 5.9029 - val_loss: nan\n",
      "Epoch 98/100\n",
      "\u001b[1m28/28\u001b[0m \u001b[32m━━━━━━━━━━━━━━━━━━━━\u001b[0m\u001b[37m\u001b[0m \u001b[1m0s\u001b[0m 3ms/step - attrition_output_accuracy: 0.8436 - attrition_output_loss: nan - department_output_accuracy: 0.6700 - department_output_loss: 5.3179 - loss: nan - val_attrition_output_accuracy: 0.8281 - val_attrition_output_loss: nan - val_department_output_accuracy: 0.6335 - val_department_output_loss: 5.9029 - val_loss: nan\n",
      "Epoch 99/100\n",
      "\u001b[1m28/28\u001b[0m \u001b[32m━━━━━━━━━━━━━━━━━━━━\u001b[0m\u001b[37m\u001b[0m \u001b[1m0s\u001b[0m 3ms/step - attrition_output_accuracy: 0.8385 - attrition_output_loss: nan - department_output_accuracy: 0.6820 - department_output_loss: 5.1282 - loss: nan - val_attrition_output_accuracy: 0.8281 - val_attrition_output_loss: nan - val_department_output_accuracy: 0.6335 - val_department_output_loss: 5.9029 - val_loss: nan\n",
      "Epoch 100/100\n",
      "\u001b[1m28/28\u001b[0m \u001b[32m━━━━━━━━━━━━━━━━━━━━\u001b[0m\u001b[37m\u001b[0m \u001b[1m0s\u001b[0m 3ms/step - attrition_output_accuracy: 0.8553 - attrition_output_loss: nan - department_output_accuracy: 0.6705 - department_output_loss: 5.3098 - loss: nan - val_attrition_output_accuracy: 0.8281 - val_attrition_output_loss: nan - val_department_output_accuracy: 0.6335 - val_department_output_loss: 5.9029 - val_loss: nan\n"
     ]
    }
   ],
   "source": [
    "# Train the model\n",
    "# Train the model using the preprocessed data\n",
    "history = model.fit(\n",
    "    X_train_scaled,\n",
    "    {'department_output': y_train_dept, 'attrition_output': y_train_attr},\n",
    "    epochs=100,\n",
    "    batch_size=32,\n",
    "    validation_split=0.2,  # Optional, gives a validation curve\n",
    "    verbose=1\n",
    ")\n"
   ]
  },
  {
   "cell_type": "code",
   "execution_count": 451,
   "metadata": {
    "colab": {
     "base_uri": "https://localhost:8080/"
    },
    "executionInfo": {
     "elapsed": 379,
     "status": "ok",
     "timestamp": 1730699259894,
     "user": {
      "displayName": "Alexander Booth",
      "userId": "02269714993535573104"
     },
     "user_tz": 360
    },
    "id": "VsMoaQlgGc3U",
    "outputId": "636c85ba-ee63-4087-b7d1-00b408f1055a"
   },
   "outputs": [
    {
     "name": "stdout",
     "output_type": "stream",
     "text": [
      "\u001b[1m12/12\u001b[0m \u001b[32m━━━━━━━━━━━━━━━━━━━━\u001b[0m\u001b[37m\u001b[0m \u001b[1m0s\u001b[0m 3ms/step - attrition_output_accuracy: 0.7898 - attrition_output_loss: nan - department_output_accuracy: 0.6296 - department_output_loss: 5.9389 - loss: nan \n"
     ]
    },
    {
     "data": {
      "text/plain": [
       "[nan, 5.582569122314453, nan, 0.8152173757553101, 0.6413043737411499]"
      ]
     },
     "execution_count": 451,
     "metadata": {},
     "output_type": "execute_result"
    }
   ],
   "source": [
    "# Evaluate the model with the testing data\n",
    "model.evaluate(X_test_scaled, {'department_output': y_test_dept, 'attrition_output': y_test_attr}, verbose=1)"
   ]
  },
  {
   "cell_type": "code",
   "execution_count": 452,
   "metadata": {
    "colab": {
     "base_uri": "https://localhost:8080/"
    },
    "executionInfo": {
     "elapsed": 113,
     "status": "ok",
     "timestamp": 1730699260004,
     "user": {
      "displayName": "Alexander Booth",
      "userId": "02269714993535573104"
     },
     "user_tz": 360
    },
    "id": "ZlCtlHi0Vt54",
    "outputId": "3a32435c-11cf-48da-81b5-1431d6c00da2"
   },
   "outputs": [
    {
     "name": "stdout",
     "output_type": "stream",
     "text": [
      "Department Accuracy:  0.03804347826086957\n",
      "Attrition Accuracy:  0.8152173913043478\n",
      "\u001b[1m12/12\u001b[0m \u001b[32m━━━━━━━━━━━━━━━━━━━━\u001b[0m\u001b[37m\u001b[0m \u001b[1m0s\u001b[0m 5ms/step \n"
     ]
    }
   ],
   "source": [
    "# Print the accuracy for both department and attrition\n",
    "print(\"Department Accuracy: \", np.mean(predicted_dept == np.argmax(y_test_dept, axis=1)))\n",
    "print(\"Attrition Accuracy: \", np.mean(predicted_attr == np.argmax(y_test_attr, axis=1)))\n",
    "# Make predictions on the test data\n",
    "predictions = model.predict(X_test_scaled)\n",
    "# Get the predicted department and attrition values\n",
    "predicted_dept = np.argmax(predictions[0], axis=1)\n",
    "predicted_attr = np.argmax(predictions[1], axis=1)\n"
   ]
  },
  {
   "cell_type": "markdown",
   "metadata": {
    "id": "eGSyfsZfWOQM"
   },
   "source": [
    "# Summary\n",
    "\n",
    "In the provided space below, briefly answer the following questions.\n",
    "\n",
    "1. Is accuracy the best metric to use on this data? Why or why not?\n",
    "\n",
    "2. What activation functions did you choose for your output layers, and why?\n",
    "\n",
    "3. Can you name a few ways that this model might be improved?"
   ]
  },
  {
   "cell_type": "markdown",
   "metadata": {
    "id": "pi9SLpFnWvbF"
   },
   "source": [
    "YOUR ANSWERS HERE\n",
    "\n",
    "1. Accuracy may not be the best metric to use on this data. The reasoning is the imbalance in the dataset regarding overtime. There is a bias towards No with 1054 vs Yes with 416.\n",
    "2. I chose Relu since it is generally more computationally efficient (faster), but this is not ideal for the output layers since they are multi class/binary which is where softmax/sigmoid may be more pertinent.\n",
    "3. Addressing imbalance in the data classes, hyperparameter tuning, and feature engineering could improve this model. This could get ride of biases, increase efficiency, and capture unique patterns."
   ]
  },
  {
   "cell_type": "code",
   "execution_count": null,
   "metadata": {
    "executionInfo": {
     "elapsed": 3,
     "status": "ok",
     "timestamp": 1730699260004,
     "user": {
      "displayName": "Alexander Booth",
      "userId": "02269714993535573104"
     },
     "user_tz": 360
    },
    "id": "ZuQWjGgGXZ3C"
   },
   "outputs": [],
   "source": []
  }
 ],
 "metadata": {
  "colab": {
   "provenance": []
  },
  "kernelspec": {
   "display_name": "base",
   "language": "python",
   "name": "python3"
  },
  "language_info": {
   "codemirror_mode": {
    "name": "ipython",
    "version": 3
   },
   "file_extension": ".py",
   "mimetype": "text/x-python",
   "name": "python",
   "nbconvert_exporter": "python",
   "pygments_lexer": "ipython3",
   "version": "3.12.7"
  }
 },
 "nbformat": 4,
 "nbformat_minor": 0
}
